{
 "cells": [
  {
   "cell_type": "code",
   "execution_count": 30,
   "metadata": {},
   "outputs": [],
   "source": [
    "#importing libraries\n",
    "import numpy as np\n",
    "import pandas as pd\n",
    "import requests\n",
    "from bs4 import BeautifulSoup\n",
    "import time\n",
    "from openpyxl import load_workbook"
   ]
  },
  {
   "cell_type": "code",
   "execution_count": 2,
   "metadata": {},
   "outputs": [],
   "source": [
    "from selenium import webdriver\n",
    "from selenium.webdriver.common.keys import Keys"
   ]
  },
  {
   "cell_type": "code",
   "execution_count": 3,
   "metadata": {},
   "outputs": [],
   "source": [
    "url='https://www.prokabaddi.com'"
   ]
  },
  {
   "cell_type": "code",
   "execution_count": 15,
   "metadata": {},
   "outputs": [],
   "source": [
    "def instant_browser():\n",
    "    return webdriver.Chrome(r'C:\\Users\\divakar.kareddy\\Hackathon\\chromedriver_win32\\chromedriver.exe')"
   ]
  },
  {
   "cell_type": "code",
   "execution_count": 34,
   "metadata": {},
   "outputs": [],
   "source": [
    "def close_driver(driver):\n",
    "    driver.close()"
   ]
  },
  {
   "cell_type": "code",
   "execution_count": 16,
   "metadata": {},
   "outputs": [],
   "source": [
    "def invokebrowser(driver,url):\n",
    "    '''\n",
    "    instantiates chrome webdriver and browse given url and return webdriver \n",
    "    '''\n",
    "    driver.get(url)\n",
    "    time.sleep(1)\n",
    "    driver.maximize_window()\n",
    "    return driver"
   ]
  },
  {
   "cell_type": "code",
   "execution_count": 17,
   "metadata": {},
   "outputs": [],
   "source": [
    "#Get the page data into soup object\n",
    "def soup_website(driver):\n",
    "    '''\n",
    "    input-->webdriver instance\n",
    "    output---> soup of the website invoked by driver'''\n",
    "    soup=BeautifulSoup(driver.page_source)\n",
    "    return soup"
   ]
  },
  {
   "cell_type": "code",
   "execution_count": 18,
   "metadata": {},
   "outputs": [],
   "source": [
    "#Get the options available for player in the dropdown\n",
    "def get_links(soup):\n",
    "    '''\n",
    "    input--->soup object of page\n",
    "    output--->return the options present in the dropdown'''\n",
    "    links=soup.find_all('div',{'class':'submenu-item'})[2].find_all('a')\n",
    "    list_links=[url+links[i].attrs['href']+'/players' for i in range(len(links))]\n",
    "    team_name=[links[i].attrs['href'].replace('/teams/','')\\\n",
    "                   [:-10].replace('-',' ').rstrip(' ').title() for i in range(len(links))]\n",
    "    return (list_links,team_name)"
   ]
  },
  {
   "cell_type": "code",
   "execution_count": 70,
   "metadata": {},
   "outputs": [],
   "source": [
    "def player_scrapper(tup,excel):\n",
    "    links,teams=tup\n",
    "    for i in range(len(links)):\n",
    "        driver.get(links[i])\n",
    "        time.sleep(2)\n",
    "        page=BeautifulSoup(driver.page_source)\n",
    "        playernames=page.find_all('div',{'class':'si-plyrName'})\n",
    "        roles=page.find_all('div',{'class':'si-plyrRole'})\n",
    "        playerprofiles=page.find_all('a',{'class':'si-plyrBox'})\n",
    "        dit={}\n",
    "        player_name=[(playernames[i].find_all('div',{'class':'si-txt1'})[0].text+\"\"+\\\n",
    "                    playernames[i].find_all('div',{'class':'si-txt2'})[0].text).strip().title() for i in range(len(playernames))]\n",
    "        role=[roles[i].text.strip() for i in range(len(roles))]\n",
    "        player_profile=[url+playerprofiles[i].attrs['href'].strip() for i in range(len(playerprofiles))]\n",
    "        dit['Player Name']=player_name\n",
    "        dit['Role']=role\n",
    "        dit['Profile Link']=player_profile\n",
    "        team_df=pd.DataFrame(dit)\n",
    "        if i==0:\n",
    "            team_df.to_excel(excel,sheet_name=teams[i],engine = 'xlsxwriter',index=False)\n",
    "        else:\n",
    "            book = load_workbook(excel)\n",
    "            writer = pd.ExcelWriter(excel, engine = 'openpyxl')\n",
    "            writer.book = book\n",
    "            team_df.to_excel(writer, sheet_name =teams[i],index=False)\n",
    "            writer.save()\n",
    "            writer.close()\n",
    "        del team_df,dit,playernames,roles,role,playerprofiles,player_profile,player_name"
   ]
  },
  {
   "cell_type": "code",
   "execution_count": 71,
   "metadata": {},
   "outputs": [],
   "source": [
    "driver=invokebrowser(instant_browser(),url)\n",
    "try:\n",
    "    player_scrapper(get_links(soup_website(driver)),\"Teams.xlsx\")\n",
    "except Exception as e:\n",
    "    print(e)\n",
    "    print(\"error\")\n",
    "finally:\n",
    "    close_driver(driver)"
   ]
  },
  {
   "cell_type": "code",
   "execution_count": null,
   "metadata": {},
   "outputs": [],
   "source": []
  }
 ],
 "metadata": {
  "kernelspec": {
   "display_name": "Python 3",
   "language": "python",
   "name": "python3"
  },
  "language_info": {
   "codemirror_mode": {
    "name": "ipython",
    "version": 3
   },
   "file_extension": ".py",
   "mimetype": "text/x-python",
   "name": "python",
   "nbconvert_exporter": "python",
   "pygments_lexer": "ipython3",
   "version": "3.7.3"
  }
 },
 "nbformat": 4,
 "nbformat_minor": 2
}
